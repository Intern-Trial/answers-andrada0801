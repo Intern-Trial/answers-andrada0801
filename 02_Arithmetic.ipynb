{
 "cells": [
  {
   "cell_type": "markdown",
   "metadata": {
    "collapsed": false
   },
   "source": [
    "# Variables, Arithmetic and Printing"
   ]
  },
  {
   "cell_type": "markdown",
   "metadata": {
    "collapsed": false
   },
   "source": [
    "## Example\n",
    "A population of bacteria (as measured by number of cells) increases by 25% every day. On the 3 March, the population is 134 cells. Use the following formula to calculate the population on 12 April.\n",
    "$$ p(n) = p_0r^n $$"
   ]
  },
  {
   "cell_type": "code",
   "execution_count": 1,
   "metadata": {
    "collapsed": false
   },
   "outputs": [
    {
     "name": "stdout",
     "output_type": "stream",
     "text": [
      "Original population: 134\n",
      "Population after 40 days: 1008103\n"
     ]
    }
   ],
   "source": [
    "# Set the value of variables\n",
    "rate = 1.25\n",
    "pop_start = 134\n",
    "num_days = 31 - 3 + 12\n",
    "\n",
    "# Perform the calculation\n",
    "pop_end = int(pop_start * rate ** num_days)\n",
    "\n",
    "# Print the results\n",
    "print(\"Original population:\", pop_start)\n",
    "print(\"Population after\", num_days, \"days:\", pop_end)"
   ]
  },
  {
   "cell_type": "markdown",
   "metadata": {
    "collapsed": false
   },
   "source": [
    "This example illustrates how we can use Python to perform a simple calculation. It demonstrates three important concepts: **variables**, **numerical expressions** and the **print function**."
   ]
  },
  {
   "cell_type": "markdown",
   "metadata": {
    "collapsed": false
   },
   "source": [
    "## Variables\n",
    "\n",
    "A variable is a storage location which has a name and a value. We **assign** a value to a variable using the `=` operator."
   ]
  },
  {
   "cell_type": "code",
   "execution_count": 2,
   "metadata": {
    "collapsed": false
   },
   "outputs": [
    {
     "name": "stdout",
     "output_type": "stream",
     "text": [
      "5\n",
      "3.141\n",
      "Baz\n"
     ]
    }
   ],
   "source": [
    "x = 5\n",
    "y = 3.141\n",
    "my_name = \"Baz\"\n",
    "print(x)\n",
    "print(y)\n",
    "print(my_name)"
   ]
  },
  {
   "cell_type": "markdown",
   "metadata": {
    "collapsed": false
   },
   "source": [
    "Variables are shared across the entire notebook, and it is possible to update the value of a variable:"
   ]
  },
  {
   "cell_type": "code",
   "execution_count": 3,
   "metadata": {
    "collapsed": false
   },
   "outputs": [
    {
     "name": "stdout",
     "output_type": "stream",
     "text": [
      "5\n",
      "7\n"
     ]
    }
   ],
   "source": [
    "print(x) # x was defined in the previous code cell\n",
    "x = x + 2 # Increase the value of x by 2\n",
    "print(x)"
   ]
  },
  {
   "cell_type": "markdown",
   "metadata": {
    "collapsed": false
   },
   "source": [
    "Variables also have a **type**. Common types are **integer** (a whole number), **float** (a decimal number) and **string** (a sequence of characters). In the above example, `x` is an integer, `y` is a float and `z` is a string.\n",
    "\n",
    "The are rules regarding valid variable names:\n",
    "- A variable name must start with a letter or the underscore character\n",
    "- A variable name cannot start with a number\n",
    "- A variable name can only contain alpha-numeric characters and underscores (A-z, 0-9, and _ )\n",
    "- Variable names are case-sensitive (age, Age and AGE are three different variables)"
   ]
  },
  {
   "cell_type": "markdown",
   "metadata": {
    "collapsed": false
   },
   "source": [
    "## Arithmetic"
   ]
  },
  {
   "cell_type": "markdown",
   "metadata": {
    "collapsed": false
   },
   "source": [
    "In common with other languages, Python uses specific symbols to perform arithmetic operations:\n",
    "\n",
    "| Operator | Symbol |\n",
    "|---|---|\n",
    "| Addition | `+` |\n",
    "| Subtraction | `-` |\n",
    "| Multiplication | `*` |\n",
    "| Division | `/` |\n",
    "| Power | `**` |\n",
    "| Modulo | `%` |\n",
    "| Integer division | ``//`` |\n",
    "\n",
    "It is important to include brackets to enforce correct order of computation.\n",
    "\n",
    "### Example\n",
    "\n",
    "$$ x = (3 + 4)^{5+6}$$\n",
    "$$ y = (3 + 4)^5 + 6$$"
   ]
  },
  {
   "cell_type": "code",
   "execution_count": 4,
   "metadata": {
    "collapsed": false
   },
   "outputs": [
   ],
   "source": [
    "x = (3 + 4) ** (5 + 6)\n",
    "y = ((3 + 4) ** 5) + 6"
   ]
  },
  {
   "cell_type": "markdown",
   "metadata": {
    "collapsed": false
   },
   "source": [
    "### Modulo Arithmetic\n",
    "\n",
    "`//` and `%` together perform division with remainder. For example, 11 divided by 3 is 3 with remainder 2:"
   ]
  },
  {
   "cell_type": "code",
   "execution_count": 5,
   "metadata": {
    "collapsed": false
   },
   "outputs": [
    {
     "name": "stdout",
     "output_type": "stream",
     "text": [
      "3\n",
      "2\n"
     ]
    }
   ],
   "source": [
    "x = 11 // 3\n",
    "y = 11 % 3\n",
    "print(x)\n",
    "print(y)"
   ]
  },
  {
   "cell_type": "markdown",
   "metadata": {
    "collapsed": false
   },
   "source": [
    "### Example"
   ]
  },
  {
   "cell_type": "markdown",
   "metadata": {
    "collapsed": false
   },
   "source": [
    "## Print function\n",
    "Use the `print` function to display output to the user. A **function** is a collection of programming instructions that performs a task. To call the print function use the name of the function (`print`), an opening bracket, a list of **arguments**, and a closing bracket."
   ]
  },
  {
   "cell_type": "code",
   "execution_count": 8,
   "metadata": {
    "collapsed": false
   },
   "outputs": [
    {
     "name": "stdout",
     "output_type": "stream",
     "text": [
      "What is 4 plus 5?\n",
      "\n",
      "The answer is 9\n",
      "The answer is not 8 :-)\n"
     ]
    }
   ],
   "source": [
    "print(\"What is 4 plus 5?\")\n",
    "print()\n",
    "print(\"The answer is\", 4 + 5)\n",
    "print(\"The answer is not\", 8, \":-)\")"
   ]
  },
  {
   "cell_type": "markdown",
   "metadata": {
    "collapsed": false
   },
   "source": [
    "Notice:\n",
    "- Strings are defined using quote mark\n",
    "- The `print` function takes 0, 1 or more arguments\n",
    "- Arguments are separated by commas\n",
    "- Arguments may be string literals (`\":-)\"`), numbers (`4`) or expressions (`8`)."
   ]
  }
 ],
 "metadata": {
  "kernelspec": {
   "display_name": "Python 3 (system-wide)",
   "language": "python",
   "metadata": {
    "cocalc": {
     "description": "Python 3 programming language",
     "priority": 100,
     "url": "https://www.python.org/"
    }
   },
   "name": "python3"
  },
  "language_info": {
   "codemirror_mode": {
    "name": "ipython",
    "version": 3
   },
   "file_extension": ".py",
   "mimetype": "text/x-python",
   "name": "python",
   "nbconvert_exporter": "python",
   "pygments_lexer": "ipython3",
   "version": "3.6.9"
  }
 },
 "nbformat": 4,
 "nbformat_minor": 4
}