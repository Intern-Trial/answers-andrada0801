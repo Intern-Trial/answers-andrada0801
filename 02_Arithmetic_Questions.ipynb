{
 "cells": [
  {
   "cell_type": "markdown",
   "metadata": {
    "collapsed": false
   },
   "source": [
    "# Worksheet 1"
   ]
  },
  {
   "cell_type": "markdown",
   "metadata": {
    "collapsed": false
   },
   "source": [
    "## Question 1\n",
    "Calculate the following:\n",
    "$$ 2.5^{3.5 + 12.9}$$\n",
    "$$ 2^{(2^2)}$$"
   ]
  },
  {
   "cell_type": "code",
   "execution_count": 1,
   "metadata": {
    "collapsed": false
   },
   "outputs": [
   ],
   "source": [
    "# Answer"
   ]
  },
  {
   "cell_type": "markdown",
   "metadata": {
    "collapsed": false
   },
   "source": [
    "## Question 2\n",
    "In chemistry, the Hill equation relates the reaction rate $V$ to substrate concentration $[S]$:\n",
    "$$ V = \\frac{V_\\mathrm{max}[S]^n}{K_\\mathrm{half}^n + [S]^n}$$.\n",
    "Calculate the reaction rate (in mol/s) given $[S] = 3.4 \\times 10^{-5}~\\mathrm{mol}, V_\\mathrm{max} = 4.9\\times10^{-7}~\\mathrm{mol/s}, K_\\mathrm{half} = 1.0 \\times10^{-6}~\\mathrm{mol}$ and $n=3$."
   ]
  },
  {
   "cell_type": "code",
   "execution_count": 2,
   "metadata": {
    "collapsed": false
   },
   "outputs": [
    {
     "ename": "SyntaxError",
     "evalue": "invalid syntax (<ipython-input-2-63d36424bb4f>, line 2)",
     "output_type": "error",
     "traceback": [
      "\u001b[0;36m  File \u001b[0;32m\"<ipython-input-2-63d36424bb4f>\"\u001b[0;36m, line \u001b[0;32m2\u001b[0m\n\u001b[0;31m    V_max =\u001b[0m\n\u001b[0m            ^\u001b[0m\n\u001b[0;31mSyntaxError\u001b[0m\u001b[0;31m:\u001b[0m invalid syntax\n"
     ]
    }
   ],
   "source": [
    "# Answer\n",
    "V_max = \n",
    "S = \n",
    "n = \n",
    "\n",
    "V = "
   ]
  },
  {
   "cell_type": "markdown",
   "metadata": {
    "collapsed": false
   },
   "source": [
    "## Question 3\n",
    "A sheet of A4 paper has dimensions 210 × 297 mm. Calculate its area, perimeter and length of diagonal. Print the results as follows:\n",
    "\n",
    "    Area: XX mm squared\n",
    "    Perimeter: XX mm\n",
    "    Diagonal: XX mm\n",
    "\n"
   ]
  },
  {
   "cell_type": "code",
   "execution_count": 3,
   "metadata": {
    "collapsed": false
   },
   "outputs": [
   ],
   "source": [
    "# Answer\n"
   ]
  },
  {
   "cell_type": "markdown",
   "metadata": {
    "collapsed": false
   },
   "source": [
    "## Question 4\n",
    "The first day of 2021 is a Tuesday. Use the `%` operator to work out which day of the week the last day of 2020 is. (Hint: divide the the number of days in the year by 7)."
   ]
  },
  {
   "cell_type": "code",
   "execution_count": 4,
   "metadata": {
    "collapsed": false
   },
   "outputs": [
   ],
   "source": [
    "# Answer"
   ]
  },
  {
   "cell_type": "markdown",
   "metadata": {
    "collapsed": false
   },
   "source": [
    "## Question 5\n",
    "\n",
    "A time `t` in seconds can be converted to days, hours, minutes and seconds using integer division:\n",
    "\n",
    "1. Divide `t` by 60; set `t` to the quotient and call the remainder `s`.\n",
    "1. Divide `t` by 60; set `t` to the quotient and call the remainder `m`.\n",
    "1. Divide `t` by 24; set `d` to the quotient and call the remainder `h`.\n",
    "\n",
    "Calculate the number of days, hours, minutes and seconds in one million seconds. Display the result as follows:\n",
    "\n",
    "    1000000 seconds is xx days H:M:S\n",
    "\n"
   ]
  },
  {
   "cell_type": "code",
   "execution_count": 6,
   "metadata": {
    "collapsed": false
   },
   "outputs": [
    {
     "name": "stdout",
     "output_type": "stream",
     "text": [
      "1000000 seconds is 11 days 13 : 37 : 46\n"
     ]
    }
   ],
   "source": [
    "# Answer\n",
    "t = 1000000\n",
    "t_orig = t\n",
    "\n",
    "t = t // 60\n",
    "s = t % 60\n",
    "\n",
    "t = t // 60\n",
    "m = t % 60\n",
    "\n",
    "d = t // 24\n",
    "h = t % 24\n",
    "\n",
    "print(t_orig, \"seconds is\", d, \"days\", h, \":\", m, \":\", s)\n"
   ]
  },
  {
   "cell_type": "markdown",
   "metadata": {
    "collapsed": false
   },
   "source": [
    "## Question 6\n"
   ]
  }
 ],
 "metadata": {
  "kernelspec": {
   "display_name": "Python 3 (system-wide)",
   "language": "python",
   "metadata": {
    "cocalc": {
     "description": "Python 3 programming language",
     "priority": 100,
     "url": "https://www.python.org/"
    }
   },
   "name": "python3"
  },
  "language_info": {
   "codemirror_mode": {
    "name": "ipython",
    "version": 3
   },
   "file_extension": ".py",
   "mimetype": "text/x-python",
   "name": "python",
   "nbconvert_exporter": "python",
   "pygments_lexer": "ipython3",
   "version": "3.6.9"
  }
 },
 "nbformat": 4,
 "nbformat_minor": 4
}